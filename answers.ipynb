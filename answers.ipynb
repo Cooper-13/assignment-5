{
 "cells": [
  {
   "cell_type": "markdown",
   "metadata": {},
   "source": [
    "# Assignment 5: Statistical Analysis (30 pt)"
   ]
  },
  {
   "cell_type": "markdown",
   "metadata": {},
   "source": [
    "## Question 1\n",
    "\n",
    "Test the hypothesis that .... are different than ...\n",
    "\n",
    "Defend your choice of statistical test. (2 pt)\n",
    "\n",
    "Ensure that the data meet the requirements of the statistical test you run. (2 pt)"
   ]
  },
  {
   "cell_type": "code",
   "execution_count": null,
   "metadata": {},
   "outputs": [],
   "source": []
  },
  {
   "cell_type": "markdown",
   "metadata": {},
   "source": [
    "## Question 2\n",
    "\n",
    "Test the hypothesis that environmental conditions can predict ....\n",
    "\n",
    "Interpret the summary of the statistical test as it is relavent for the hypothesis.  (3 pt)\n",
    "\n",
    "Defend the variables included in your model. (2 pt)\n",
    "\n",
    "Ensure that the data meet the requirement of the statistical test you run (2 pt)."
   ]
  },
  {
   "cell_type": "code",
   "execution_count": null,
   "metadata": {},
   "outputs": [],
   "source": []
  },
  {
   "cell_type": "markdown",
   "metadata": {},
   "source": [
    "## Question 3 \n",
    "\n",
    "Read in the data and process it. (2 pt)\n",
    "\n",
    "Display your data. Does it appear to have a trend or seasonality? If it is seasonal.... (2 pt)\n",
    "\n",
    "Make a model of the time series. If necessary, account for the trend or seasonality. Test multiple combinations of parameters, and pick the one with .... (4 pt).\n",
    "\n",
    "Make a forecast for the next x years. (2 pt)"
   ]
  },
  {
   "cell_type": "code",
   "execution_count": null,
   "metadata": {},
   "outputs": [],
   "source": []
  }
 ],
 "metadata": {
  "language_info": {
   "name": "python"
  },
  "orig_nbformat": 4
 },
 "nbformat": 4,
 "nbformat_minor": 2
}
